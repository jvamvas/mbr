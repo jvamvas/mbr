{
  "cells": [
    {
      "cell_type": "code",
      "execution_count": null,
      "metadata": {
        "colab": {
          "base_uri": "https://localhost:8080/"
        },
        "id": "9TezFa6Nh-ke",
        "outputId": "5d2f090d-e602-4183-f7ef-b29b8492e1a7"
      },
      "outputs": [
        {
          "name": "stdout",
          "output_type": "stream",
          "text": [
            "Collecting git+https://github.com/google-research/bleurt\n",
            "  Cloning https://github.com/google-research/bleurt to /tmp/pip-req-build-ankbm6rl\n",
            "  Running command git clone --filter=blob:none --quiet https://github.com/google-research/bleurt /tmp/pip-req-build-ankbm6rl\n",
            "  Resolved https://github.com/google-research/bleurt to commit cebe7e6f996b40910cfaa520a63db47807e3bf5c\n",
            "  Preparing metadata (setup.py) ... \u001b[?25l\u001b[?25hdone\n",
            "Requirement already satisfied: pandas in /usr/local/lib/python3.10/dist-packages (from BLEURT==0.0.2) (1.5.3)\n",
            "Requirement already satisfied: numpy in /usr/local/lib/python3.10/dist-packages (from BLEURT==0.0.2) (1.23.5)\n",
            "Requirement already satisfied: scipy in /usr/local/lib/python3.10/dist-packages (from BLEURT==0.0.2) (1.11.4)\n",
            "Requirement already satisfied: tensorflow in /usr/local/lib/python3.10/dist-packages (from BLEURT==0.0.2) (2.15.0)\n",
            "Requirement already satisfied: tf-slim>=1.1 in /usr/local/lib/python3.10/dist-packages (from BLEURT==0.0.2) (1.1.0)\n",
            "Requirement already satisfied: sentencepiece in /usr/local/lib/python3.10/dist-packages (from BLEURT==0.0.2) (0.1.99)\n",
            "Requirement already satisfied: absl-py>=0.2.2 in /usr/local/lib/python3.10/dist-packages (from tf-slim>=1.1->BLEURT==0.0.2) (1.4.0)\n",
            "Requirement already satisfied: python-dateutil>=2.8.1 in /usr/local/lib/python3.10/dist-packages (from pandas->BLEURT==0.0.2) (2.8.2)\n",
            "Requirement already satisfied: pytz>=2020.1 in /usr/local/lib/python3.10/dist-packages (from pandas->BLEURT==0.0.2) (2023.4)\n",
            "Requirement already satisfied: astunparse>=1.6.0 in /usr/local/lib/python3.10/dist-packages (from tensorflow->BLEURT==0.0.2) (1.6.3)\n",
            "Requirement already satisfied: flatbuffers>=23.5.26 in /usr/local/lib/python3.10/dist-packages (from tensorflow->BLEURT==0.0.2) (23.5.26)\n",
            "Requirement already satisfied: gast!=0.5.0,!=0.5.1,!=0.5.2,>=0.2.1 in /usr/local/lib/python3.10/dist-packages (from tensorflow->BLEURT==0.0.2) (0.5.4)\n",
            "Requirement already satisfied: google-pasta>=0.1.1 in /usr/local/lib/python3.10/dist-packages (from tensorflow->BLEURT==0.0.2) (0.2.0)\n",
            "Requirement already satisfied: h5py>=2.9.0 in /usr/local/lib/python3.10/dist-packages (from tensorflow->BLEURT==0.0.2) (3.9.0)\n",
            "Requirement already satisfied: libclang>=13.0.0 in /usr/local/lib/python3.10/dist-packages (from tensorflow->BLEURT==0.0.2) (16.0.6)\n",
            "Requirement already satisfied: ml-dtypes~=0.2.0 in /usr/local/lib/python3.10/dist-packages (from tensorflow->BLEURT==0.0.2) (0.2.0)\n",
            "Requirement already satisfied: opt-einsum>=2.3.2 in /usr/local/lib/python3.10/dist-packages (from tensorflow->BLEURT==0.0.2) (3.3.0)\n",
            "Requirement already satisfied: packaging in /usr/local/lib/python3.10/dist-packages (from tensorflow->BLEURT==0.0.2) (23.2)\n",
            "Requirement already satisfied: protobuf!=4.21.0,!=4.21.1,!=4.21.2,!=4.21.3,!=4.21.4,!=4.21.5,<5.0.0dev,>=3.20.3 in /usr/local/lib/python3.10/dist-packages (from tensorflow->BLEURT==0.0.2) (3.20.3)\n",
            "Requirement already satisfied: setuptools in /usr/local/lib/python3.10/dist-packages (from tensorflow->BLEURT==0.0.2) (67.7.2)\n",
            "Requirement already satisfied: six>=1.12.0 in /usr/local/lib/python3.10/dist-packages (from tensorflow->BLEURT==0.0.2) (1.16.0)\n",
            "Requirement already satisfied: termcolor>=1.1.0 in /usr/local/lib/python3.10/dist-packages (from tensorflow->BLEURT==0.0.2) (2.4.0)\n",
            "Requirement already satisfied: typing-extensions>=3.6.6 in /usr/local/lib/python3.10/dist-packages (from tensorflow->BLEURT==0.0.2) (4.5.0)\n",
            "Requirement already satisfied: wrapt<1.15,>=1.11.0 in /usr/local/lib/python3.10/dist-packages (from tensorflow->BLEURT==0.0.2) (1.14.1)\n",
            "Requirement already satisfied: tensorflow-io-gcs-filesystem>=0.23.1 in /usr/local/lib/python3.10/dist-packages (from tensorflow->BLEURT==0.0.2) (0.35.0)\n",
            "Requirement already satisfied: grpcio<2.0,>=1.24.3 in /usr/local/lib/python3.10/dist-packages (from tensorflow->BLEURT==0.0.2) (1.60.0)\n",
            "Requirement already satisfied: tensorboard<2.16,>=2.15 in /usr/local/lib/python3.10/dist-packages (from tensorflow->BLEURT==0.0.2) (2.15.1)\n",
            "Requirement already satisfied: tensorflow-estimator<2.16,>=2.15.0 in /usr/local/lib/python3.10/dist-packages (from tensorflow->BLEURT==0.0.2) (2.15.0)\n",
            "Requirement already satisfied: keras<2.16,>=2.15.0 in /usr/local/lib/python3.10/dist-packages (from tensorflow->BLEURT==0.0.2) (2.15.0)\n",
            "Requirement already satisfied: wheel<1.0,>=0.23.0 in /usr/local/lib/python3.10/dist-packages (from astunparse>=1.6.0->tensorflow->BLEURT==0.0.2) (0.42.0)\n",
            "Requirement already satisfied: google-auth<3,>=1.6.3 in /usr/local/lib/python3.10/dist-packages (from tensorboard<2.16,>=2.15->tensorflow->BLEURT==0.0.2) (2.17.3)\n",
            "Requirement already satisfied: google-auth-oauthlib<2,>=0.5 in /usr/local/lib/python3.10/dist-packages (from tensorboard<2.16,>=2.15->tensorflow->BLEURT==0.0.2) (1.2.0)\n",
            "Requirement already satisfied: markdown>=2.6.8 in /usr/local/lib/python3.10/dist-packages (from tensorboard<2.16,>=2.15->tensorflow->BLEURT==0.0.2) (3.5.2)\n",
            "Requirement already satisfied: requests<3,>=2.21.0 in /usr/local/lib/python3.10/dist-packages (from tensorboard<2.16,>=2.15->tensorflow->BLEURT==0.0.2) (2.31.0)\n",
            "Requirement already satisfied: tensorboard-data-server<0.8.0,>=0.7.0 in /usr/local/lib/python3.10/dist-packages (from tensorboard<2.16,>=2.15->tensorflow->BLEURT==0.0.2) (0.7.2)\n",
            "Requirement already satisfied: werkzeug>=1.0.1 in /usr/local/lib/python3.10/dist-packages (from tensorboard<2.16,>=2.15->tensorflow->BLEURT==0.0.2) (3.0.1)\n",
            "Requirement already satisfied: cachetools<6.0,>=2.0.0 in /usr/local/lib/python3.10/dist-packages (from google-auth<3,>=1.6.3->tensorboard<2.16,>=2.15->tensorflow->BLEURT==0.0.2) (5.3.2)\n",
            "Requirement already satisfied: pyasn1-modules>=0.2.1 in /usr/local/lib/python3.10/dist-packages (from google-auth<3,>=1.6.3->tensorboard<2.16,>=2.15->tensorflow->BLEURT==0.0.2) (0.3.0)\n",
            "Requirement already satisfied: rsa<5,>=3.1.4 in /usr/local/lib/python3.10/dist-packages (from google-auth<3,>=1.6.3->tensorboard<2.16,>=2.15->tensorflow->BLEURT==0.0.2) (4.9)\n",
            "Requirement already satisfied: requests-oauthlib>=0.7.0 in /usr/local/lib/python3.10/dist-packages (from google-auth-oauthlib<2,>=0.5->tensorboard<2.16,>=2.15->tensorflow->BLEURT==0.0.2) (1.3.1)\n",
            "Requirement already satisfied: charset-normalizer<4,>=2 in /usr/local/lib/python3.10/dist-packages (from requests<3,>=2.21.0->tensorboard<2.16,>=2.15->tensorflow->BLEURT==0.0.2) (3.3.2)\n",
            "Requirement already satisfied: idna<4,>=2.5 in /usr/local/lib/python3.10/dist-packages (from requests<3,>=2.21.0->tensorboard<2.16,>=2.15->tensorflow->BLEURT==0.0.2) (3.6)\n",
            "Requirement already satisfied: urllib3<3,>=1.21.1 in /usr/local/lib/python3.10/dist-packages (from requests<3,>=2.21.0->tensorboard<2.16,>=2.15->tensorflow->BLEURT==0.0.2) (2.0.7)\n",
            "Requirement already satisfied: certifi>=2017.4.17 in /usr/local/lib/python3.10/dist-packages (from requests<3,>=2.21.0->tensorboard<2.16,>=2.15->tensorflow->BLEURT==0.0.2) (2023.11.17)\n",
            "Requirement already satisfied: MarkupSafe>=2.1.1 in /usr/local/lib/python3.10/dist-packages (from werkzeug>=1.0.1->tensorboard<2.16,>=2.15->tensorflow->BLEURT==0.0.2) (2.1.4)\n",
            "Requirement already satisfied: pyasn1<0.6.0,>=0.4.6 in /usr/local/lib/python3.10/dist-packages (from pyasn1-modules>=0.2.1->google-auth<3,>=1.6.3->tensorboard<2.16,>=2.15->tensorflow->BLEURT==0.0.2) (0.5.1)\n",
            "Requirement already satisfied: oauthlib>=3.0.0 in /usr/local/lib/python3.10/dist-packages (from requests-oauthlib>=0.7.0->google-auth-oauthlib<2,>=0.5->tensorboard<2.16,>=2.15->tensorflow->BLEURT==0.0.2) (3.2.2)\n",
            "Building wheels for collected packages: BLEURT\n",
            "  Building wheel for BLEURT (setup.py) ... \u001b[?25l\u001b[?25hdone\n",
            "  Created wheel for BLEURT: filename=BLEURT-0.0.2-py3-none-any.whl size=16456765 sha256=f279c1fe15700a8889ae6033288effe6e5ed8b9267472e732cbb536a4ecf6f17\n",
            "  Stored in directory: /tmp/pip-ephem-wheel-cache-hm5c_pv4/wheels/63/3b/9f/72787ebc77cdf550411b393adea50e0272b9c5bb857f81f4b0\n",
            "Successfully built BLEURT\n",
            "Installing collected packages: BLEURT\n",
            "Successfully installed BLEURT-0.0.2\n"
          ]
        }
      ],
      "source": [
        "pip install git+https://github.com/google-research/bleurt"
      ]
    },
    {
      "cell_type": "code",
      "execution_count": null,
      "metadata": {
        "colab": {
          "base_uri": "https://localhost:8080/"
        },
        "id": "ZOzvvVKKj_rg",
        "outputId": "a0d7f210-1bb0-4b26-91fa-a56290d60a0f"
      },
      "outputs": [
        {
          "name": "stdout",
          "output_type": "stream",
          "text": [
            "--2024-02-02 16:51:06--  https://storage.googleapis.com/bleurt-oss-21/BLEURT-20.zip\n",
            "Resolving storage.googleapis.com (storage.googleapis.com)... 142.250.101.207, 142.250.141.207, 142.251.2.207, ...\n",
            "Connecting to storage.googleapis.com (storage.googleapis.com)|142.250.101.207|:443... connected.\n",
            "HTTP request sent, awaiting response... 200 OK\n",
            "Length: 2140294207 (2.0G) [application/octet-stream]\n",
            "Saving to: ‘BLEURT-20.zip’\n",
            "\n",
            "BLEURT-20.zip       100%[===================>]   1.99G   182MB/s    in 18s     \n",
            "\n",
            "2024-02-02 16:51:25 (112 MB/s) - ‘BLEURT-20.zip’ saved [2140294207/2140294207]\n",
            "\n",
            "--2024-02-02 16:51:25--  http://./\n",
            "Resolving . (.)... failed: No address associated with hostname.\n",
            "wget: unable to resolve host address ‘.’\n",
            "FINISHED --2024-02-02 16:51:25--\n",
            "Total wall clock time: 18s\n",
            "Downloaded: 1 files, 2.0G in 18s (112 MB/s)\n",
            "Archive:  BLEURT-20.zip\n",
            "   creating: BLEURT-20/\n",
            "  inflating: BLEURT-20/bert_config.json  \n",
            "  inflating: BLEURT-20/saved_model.pb  \n",
            "   creating: BLEURT-20/variables/\n",
            "  inflating: BLEURT-20/variables/variables.index  \n",
            "  inflating: BLEURT-20/variables/variables.data-00000-of-00001  \n",
            "  inflating: BLEURT-20/sent_piece.vocab  \n",
            "  inflating: BLEURT-20/bleurt_config.json  \n",
            "  inflating: BLEURT-20/sent_piece.model  \n"
          ]
        }
      ],
      "source": [
        "!wget https://storage.googleapis.com/bleurt-oss-21/BLEURT-20.zip .\n",
        "!unzip BLEURT-20.zip"
      ]
    },
    {
      "cell_type": "code",
      "execution_count": null,
      "metadata": {
        "colab": {
          "base_uri": "https://localhost:8080/"
        },
        "id": "S0Tx7HXOjfl6",
        "outputId": "46074b12-9382-46de-82fe-9f2259db01f0"
      },
      "outputs": [
        {
          "name": "stdout",
          "output_type": "stream",
          "text": [
            "--2024-02-02 16:51:49--  https://drive.switch.ch/index.php/s/fKMKOmvUU143S2y/download\n",
            "Resolving drive.switch.ch (drive.switch.ch)... 86.119.34.137, 86.119.34.138, 2001:620:5ca1:1ee::12, ...\n",
            "Connecting to drive.switch.ch (drive.switch.ch)|86.119.34.137|:443... connected.\n",
            "HTTP request sent, awaiting response... 200 OK\n",
            "Length: 5209639 (5.0M) [application/gzip]\n",
            "Saving to: ‘download’\n",
            "\n",
            "download            100%[===================>]   4.97M  3.99MB/s    in 1.2s    \n",
            "\n",
            "2024-02-02 16:51:51 (3.99 MB/s) - ‘download’ saved [5209639/5209639]\n",
            "\n"
          ]
        }
      ],
      "source": [
        "!wget https://drive.switch.ch/index.php/s/fKMKOmvUU143S2y/download\n",
        "!mv download wmt22_translations.tar.gz"
      ]
    },
    {
      "cell_type": "code",
      "execution_count": null,
      "metadata": {
        "colab": {
          "base_uri": "https://localhost:8080/"
        },
        "id": "V5ich1SclOns",
        "outputId": "29ac2990-1c35-4d53-a15c-8913dc34611a"
      },
      "outputs": [
        {
          "name": "stdout",
          "output_type": "stream",
          "text": [
            "mbr.wmt22.de-en.aggregate.n1024.epsilon0.02.seed0.chrf.en\n",
            "mbr.wmt22.de-en.aggregate.n1024.epsilon0.02.seed0.comet22.en\n",
            "mbr.wmt22.de-en.aggregate.n1024.epsilon0.02.seed0.cometinho.en\n",
            "mbr.wmt22.de-en.aggregate_to_fine.top20.n1024.epsilon0.02.seed0.chrf.en\n",
            "mbr.wmt22.de-en.aggregate_to_fine.top20.n1024.epsilon0.02.seed0.chrf-to-comet22.en\n",
            "mbr.wmt22.de-en.aggregate_to_fine.top20.n1024.epsilon0.02.seed0.comet22.en\n",
            "mbr.wmt22.de-en.aggregate_to_fine.top20.n1024.epsilon0.02.seed0.cometinho.en\n",
            "mbr.wmt22.de-en.coarse_to_fine.top20.n1024.epsilon0.02.seed0.chrf-to-comet22.en\n",
            "mbr.wmt22.de-en.pairwise.n1024.epsilon0.02.seed0.chrf.en\n",
            "mbr.wmt22.de-en.pairwise.n1024.epsilon0.02.seed0.comet22.en\n",
            "mbr.wmt22.de-en.pairwise.n1024.epsilon0.02.seed0.cometinho.en\n",
            "mbr.wmt22.en-de.aggregate.n1024.epsilon0.02.seed0.chrf.de\n",
            "mbr.wmt22.en-de.aggregate.n1024.epsilon0.02.seed0.comet22.de\n",
            "mbr.wmt22.en-de.aggregate.n1024.epsilon0.02.seed0.cometinho.de\n",
            "mbr.wmt22.en-de.aggregate_to_fine.top20.n1024.epsilon0.02.seed0.chrf.de\n",
            "mbr.wmt22.en-de.aggregate_to_fine.top20.n1024.epsilon0.02.seed0.chrf-to-comet22.de\n",
            "mbr.wmt22.en-de.aggregate_to_fine.top20.n1024.epsilon0.02.seed0.comet22.de\n",
            "mbr.wmt22.en-de.aggregate_to_fine.top20.n1024.epsilon0.02.seed0.cometinho.de\n",
            "mbr.wmt22.en-de.coarse_to_fine.top20.n1024.epsilon0.02.seed0.chrf-to-comet22.de\n",
            "mbr.wmt22.en-de.pairwise.n1024.epsilon0.02.seed0.chrf.de\n",
            "mbr.wmt22.en-de.pairwise.n1024.epsilon0.02.seed0.comet22.de\n",
            "mbr.wmt22.en-de.pairwise.n1024.epsilon0.02.seed0.cometinho.de\n",
            "mbr.wmt22.en-ru.aggregate.n1024.epsilon0.02.seed0.chrf.ru\n",
            "mbr.wmt22.en-ru.aggregate.n1024.epsilon0.02.seed0.comet22.ru\n",
            "mbr.wmt22.en-ru.aggregate.n1024.epsilon0.02.seed0.cometinho.ru\n",
            "mbr.wmt22.en-ru.aggregate_to_fine.top20.n1024.epsilon0.02.seed0.chrf.ru\n",
            "mbr.wmt22.en-ru.aggregate_to_fine.top20.n1024.epsilon0.02.seed0.chrf-to-comet22.ru\n",
            "mbr.wmt22.en-ru.aggregate_to_fine.top20.n1024.epsilon0.02.seed0.comet22.ru\n",
            "mbr.wmt22.en-ru.aggregate_to_fine.top20.n1024.epsilon0.02.seed0.cometinho.ru\n",
            "mbr.wmt22.en-ru.coarse_to_fine.top20.n1024.epsilon0.02.seed0.chrf-to-comet22.ru\n",
            "mbr.wmt22.en-ru.pairwise.n1024.epsilon0.02.seed0.chrf.ru\n",
            "mbr.wmt22.en-ru.pairwise.n1024.epsilon0.02.seed0.comet22.ru\n",
            "mbr.wmt22.en-ru.pairwise.n1024.epsilon0.02.seed0.cometinho.ru\n",
            "mbr.wmt22.ru-en.aggregate.n1024.epsilon0.02.seed0.chrf.en\n",
            "mbr.wmt22.ru-en.aggregate.n1024.epsilon0.02.seed0.comet22.en\n",
            "mbr.wmt22.ru-en.aggregate.n1024.epsilon0.02.seed0.cometinho.en\n",
            "mbr.wmt22.ru-en.aggregate_to_fine.top20.n1024.epsilon0.02.seed0.chrf.en\n",
            "mbr.wmt22.ru-en.aggregate_to_fine.top20.n1024.epsilon0.02.seed0.chrf-to-comet22.en\n",
            "mbr.wmt22.ru-en.aggregate_to_fine.top20.n1024.epsilon0.02.seed0.comet22.en\n",
            "mbr.wmt22.ru-en.aggregate_to_fine.top20.n1024.epsilon0.02.seed0.cometinho.en\n",
            "mbr.wmt22.ru-en.coarse_to_fine.top20.n1024.epsilon0.02.seed0.chrf-to-comet22.en\n",
            "mbr.wmt22.ru-en.pairwise.n1024.epsilon0.02.seed0.chrf.en\n",
            "mbr.wmt22.ru-en.pairwise.n1024.epsilon0.02.seed0.comet22.en\n",
            "mbr.wmt22.ru-en.pairwise.n1024.epsilon0.02.seed0.cometinho.en\n",
            "wmt22.de-en.beam4.en\n",
            "wmt22.de-en.epsilon0.02.seed0.en\n",
            "wmt22.de-en.ref.en\n",
            "wmt22.de-en.src.de\n",
            "wmt22.en-de.beam4.de\n",
            "wmt22.en-de.epsilon0.02.seed0.de\n",
            "wmt22.en-de.ref.de\n",
            "wmt22.en-de.src.en\n",
            "wmt22.en-ru.beam4.ru\n",
            "wmt22.en-ru.epsilon0.02.seed0.ru\n",
            "wmt22.en-ru.ref.ru\n",
            "wmt22.en-ru.src.en\n",
            "wmt22.ru-en.beam4.en\n",
            "wmt22.ru-en.epsilon0.02.seed0.en\n",
            "wmt22.ru-en.ref.en\n",
            "wmt22.ru-en.src.ru\n"
          ]
        }
      ],
      "source": [
        "!tar -xzvf wmt22_translations.tar.gz"
      ]
    },
    {
      "cell_type": "code",
      "execution_count": null,
      "metadata": {
        "id": "766mwU2anb41"
      },
      "outputs": [],
      "source": [
        "from pathlib import Path\n",
        "import numpy as np\n",
        "from bleurt import score\n",
        "\n",
        "def run_score(r_path, t_path):\n",
        "  checkpoint = \"BLEURT-20\"\n",
        "  references = Path(r_path).read_text().splitlines()\n",
        "  candidates = Path(t_path).read_text().splitlines()\n",
        "  assert len(references) == len(candidates)\n",
        "\n",
        "  scorer = score.BleurtScorer(checkpoint)\n",
        "  scores = scorer.score(references=references, candidates=candidates)\n",
        "  avg = np.mean(scores)\n",
        "  print(f\"{t_path}\\t{checkpoint}\\t{avg:.5f}\")"
      ]
    },
    {
      "cell_type": "code",
      "execution_count": null,
      "metadata": {
        "colab": {
          "background_save": true,
          "base_uri": "https://localhost:8080/"
        },
        "id": "FG8Q8qQvqVd9",
        "outputId": "d3314b17-6bdb-4f14-e7fb-ddd7372e06ea"
      },
      "outputs": [
        {
          "name": "stdout",
          "output_type": "stream",
          "text": [
            "wmt22.en-de.beam4.de\tBLEURT-20\t0.76158\n",
            "wmt22.de-en.beam4.en\tBLEURT-20\t0.72562\n",
            "wmt22.en-ru.beam4.ru\tBLEURT-20\t0.68498\n",
            "wmt22.ru-en.beam4.en\tBLEURT-20\t0.75474\n"
          ]
        }
      ],
      "source": [
        "for lp in [\"en-de\", \"de-en\", \"en-ru\", \"ru-en\"]:\n",
        "  src = lp.split(\"-\")[0]\n",
        "  tgt = lp.split(\"-\")[1]\n",
        "  r_path = f\"wmt22.{lp}.ref.{tgt}\"\n",
        "  t_path = f\"wmt22.{lp}.beam4.{tgt}\"\n",
        "  run_score(r_path, t_path)"
      ]
    },
    {
      "cell_type": "code",
      "execution_count": null,
      "metadata": {
        "colab": {
          "base_uri": "https://localhost:8080/"
        },
        "id": "IgILbIZFleAE",
        "outputId": "50e03e96-0c7a-4c47-8a0d-6128f6dcde96"
      },
      "outputs": [
        {
          "name": "stdout",
          "output_type": "stream",
          "text": [
            "wmt22.en-de.epsilon0.02.seed0.de\tBLEURT-20\t0.73392\n",
            "wmt22.de-en.epsilon0.02.seed0.en\tBLEURT-20\t0.69702\n",
            "wmt22.en-ru.epsilon0.02.seed0.ru\tBLEURT-20\t0.65791\n",
            "wmt22.ru-en.epsilon0.02.seed0.en\tBLEURT-20\t0.72133\n"
          ]
        }
      ],
      "source": [
        "for lp in [\"en-de\", \"de-en\", \"en-ru\", \"ru-en\"]:\n",
        "  src = lp.split(\"-\")[0]\n",
        "  tgt = lp.split(\"-\")[1]\n",
        "  r_path = f\"wmt22.{lp}.ref.{tgt}\"\n",
        "  t_path = f\"wmt22.{lp}.epsilon0.02.seed0.{tgt}\"\n",
        "  run_score(r_path, t_path)"
      ]
    },
    {
      "cell_type": "code",
      "execution_count": null,
      "metadata": {
        "colab": {
          "base_uri": "https://localhost:8080/"
        },
        "id": "FuZEUCOHxj0A",
        "outputId": "1588e791-595b-4bb8-c9c5-274e0cc93888"
      },
      "outputs": [
        {
          "name": "stdout",
          "output_type": "stream",
          "text": [
            "mbr.wmt22.en-de.pairwise..n1024.epsilon0.02.seed0.chrf.de\tBLEURT-20\t0.76032\n",
            "mbr.wmt22.en-de.aggregate.n1024.epsilon0.02.seed0.chrf.de\tBLEURT-20\t0.75953\n",
            "mbr.wmt22.en-de.aggregate_to_fine.top20.n1024.epsilon0.02.seed0.chrf.de\tBLEURT-20\t0.76020\n",
            "mbr.wmt22.de-en.pairwise..n1024.epsilon0.02.seed0.chrf.en\tBLEURT-20\t0.72725\n",
            "mbr.wmt22.de-en.aggregate.n1024.epsilon0.02.seed0.chrf.en\tBLEURT-20\t0.72791\n",
            "mbr.wmt22.de-en.aggregate_to_fine.top20.n1024.epsilon0.02.seed0.chrf.en\tBLEURT-20\t0.72801\n",
            "mbr.wmt22.en-ru.pairwise..n1024.epsilon0.02.seed0.chrf.ru\tBLEURT-20\t0.69516\n",
            "mbr.wmt22.en-ru.aggregate.n1024.epsilon0.02.seed0.chrf.ru\tBLEURT-20\t0.69463\n",
            "mbr.wmt22.en-ru.aggregate_to_fine.top20.n1024.epsilon0.02.seed0.chrf.ru\tBLEURT-20\t0.69537\n",
            "mbr.wmt22.ru-en.pairwise..n1024.epsilon0.02.seed0.chrf.en\tBLEURT-20\t0.75506\n",
            "mbr.wmt22.ru-en.aggregate.n1024.epsilon0.02.seed0.chrf.en\tBLEURT-20\t0.75445\n",
            "mbr.wmt22.ru-en.aggregate_to_fine.top20.n1024.epsilon0.02.seed0.chrf.en\tBLEURT-20\t0.75469\n"
          ]
        }
      ],
      "source": [
        "for lp in [\"en-de\", \"de-en\", \"en-ru\", \"ru-en\"]:\n",
        "  src = lp.split(\"-\")[0]\n",
        "  tgt = lp.split(\"-\")[1]\n",
        "  r_path = f\"wmt22.{lp}.ref.{tgt}\"\n",
        "  run_score(r_path, f\"mbr.wmt22.{lp}.pairwise.n1024.epsilon0.02.seed0.chrf.{tgt}\")\n",
        "  run_score(r_path, f\"mbr.wmt22.{lp}.aggregate.n1024.epsilon0.02.seed0.chrf.{tgt}\")\n",
        "  run_score(r_path, f\"mbr.wmt22.{lp}.aggregate_to_fine.top20.n1024.epsilon0.02.seed0.chrf.{tgt}\")"
      ]
    },
    {
      "cell_type": "code",
      "execution_count": null,
      "metadata": {
        "colab": {
          "base_uri": "https://localhost:8080/"
        },
        "id": "7whiIhDCzEWh",
        "outputId": "3d1b09d5-f557-4e75-f9b7-78dae2759a61"
      },
      "outputs": [
        {
          "name": "stdout",
          "output_type": "stream",
          "text": [
            "mbr.wmt22.en-de.pairwise..n1024.epsilon0.02.seed0.cometinho.de\tBLEURT-20\t0.76667\n",
            "mbr.wmt22.en-de.aggregate..n1024.epsilon0.02.seed0.cometinho.de\tBLEURT-20\t0.76558\n",
            "mbr.wmt22.en-de.aggregate_to_fine.top20.n1024.epsilon0.02.seed0.cometinho.de\tBLEURT-20\t0.76645\n",
            "mbr.wmt22.de-en.pairwise..n1024.epsilon0.02.seed0.cometinho.en\tBLEURT-20\t0.73054\n",
            "mbr.wmt22.de-en.aggregate..n1024.epsilon0.02.seed0.cometinho.en\tBLEURT-20\t0.72863\n",
            "mbr.wmt22.de-en.aggregate_to_fine.top20.n1024.epsilon0.02.seed0.cometinho.en\tBLEURT-20\t0.72968\n",
            "mbr.wmt22.en-ru.pairwise..n1024.epsilon0.02.seed0.cometinho.ru\tBLEURT-20\t0.70571\n",
            "mbr.wmt22.en-ru.aggregate..n1024.epsilon0.02.seed0.cometinho.ru\tBLEURT-20\t0.70394\n",
            "mbr.wmt22.en-ru.aggregate_to_fine.top20.n1024.epsilon0.02.seed0.cometinho.ru\tBLEURT-20\t0.70556\n",
            "mbr.wmt22.ru-en.pairwise..n1024.epsilon0.02.seed0.cometinho.en\tBLEURT-20\t0.75905\n",
            "mbr.wmt22.ru-en.aggregate..n1024.epsilon0.02.seed0.cometinho.en\tBLEURT-20\t0.75736\n",
            "mbr.wmt22.ru-en.aggregate_to_fine.top20.n1024.epsilon0.02.seed0.cometinho.en\tBLEURT-20\t0.75874\n"
          ]
        }
      ],
      "source": [
        "for lp in [\"en-de\", \"de-en\", \"en-ru\", \"ru-en\"]:\n",
        "  src = lp.split(\"-\")[0]\n",
        "  tgt = lp.split(\"-\")[1]\n",
        "  r_path = f\"wmt22.{lp}.ref.{tgt}\"\n",
        "  run_score(r_path, f\"mbr.wmt22.{lp}.pairwise.n1024.epsilon0.02.seed0.cometinho.{tgt}\")\n",
        "  run_score(r_path, f\"mbr.wmt22.{lp}.aggregate.n1024.epsilon0.02.seed0.cometinho.{tgt}\")\n",
        "  run_score(r_path, f\"mbr.wmt22.{lp}.aggregate_to_fine.top20.n1024.epsilon0.02.seed0.cometinho.{tgt}\")"
      ]
    },
    {
      "cell_type": "code",
      "execution_count": null,
      "metadata": {
        "colab": {
          "base_uri": "https://localhost:8080/"
        },
        "id": "8wjiUUV-zQPV",
        "outputId": "dcd8f3d2-6eca-4717-e72c-cd025f6a2861"
      },
      "outputs": [
        {
          "name": "stdout",
          "output_type": "stream",
          "text": [
            "mbr.wmt22.en-ru.pairwise..n1024.epsilon0.02.seed0.comet22.ru\tBLEURT-20\t0.72401\n",
            "mbr.wmt22.en-ru.aggregate..n1024.epsilon0.02.seed0.comet22.ru\tBLEURT-20\t0.72054\n",
            "mbr.wmt22.en-ru.aggregate_to_fine.top20.n1024.epsilon0.02.seed0.comet22.ru\tBLEURT-20\t0.72294\n",
            "mbr.wmt22.ru-en.pairwise..n1024.epsilon0.02.seed0.comet22.en\tBLEURT-20\t0.76110\n",
            "mbr.wmt22.ru-en.aggregate..n1024.epsilon0.02.seed0.comet22.en\tBLEURT-20\t0.76054\n",
            "mbr.wmt22.ru-en.aggregate_to_fine.top20.n1024.epsilon0.02.seed0.comet22.en\tBLEURT-20\t0.76130\n"
          ]
        }
      ],
      "source": [
        "for lp in [\"en-de\", \"de-en\", \"en-ru\", \"ru-en\"]:\n",
        "  src = lp.split(\"-\")[0]\n",
        "  tgt = lp.split(\"-\")[1]\n",
        "  r_path = f\"wmt22.{lp}.ref.{tgt}\"\n",
        "  run_score(r_path, f\"mbr.wmt22.{lp}.pairwise.n1024.epsilon0.02.seed0.comet22.{tgt}\")\n",
        "  run_score(r_path, f\"mbr.wmt22.{lp}.aggregate.n1024.epsilon0.02.seed0.comet22.{tgt}\")\n",
        "  run_score(r_path, f\"mbr.wmt22.{lp}.aggregate_to_fine.top20.n1024.epsilon0.02.seed0.comet22.{tgt}\")"
      ]
    },
    {
      "cell_type": "code",
      "execution_count": null,
      "metadata": {
        "colab": {
          "base_uri": "https://localhost:8080/"
        },
        "id": "k1ybaDs7zTKN",
        "outputId": "61205d86-1b4d-4d82-9d9d-5d669d321908"
      },
      "outputs": [
        {
          "name": "stdout",
          "output_type": "stream",
          "text": [
            "mbr.wmt22.en-de.aggregate_to_fine.top20.n1024.epsilon0.02.seed0.chrf-to-comet22.de\tBLEURT-20\t0.76922\n",
            "mbr.wmt22.en-de.coarse_to_fine.top20.n1024.epsilon0.02.seed0.chrf-to-comet22.de\tBLEURT-20\t0.76963\n",
            "mbr.wmt22.de-en.aggregate_to_fine.top20.n1024.epsilon0.02.seed0.chrf-to-comet22.en\tBLEURT-20\t0.73337\n",
            "mbr.wmt22.de-en.coarse_to_fine.top20.n1024.epsilon0.02.seed0.chrf-to-comet22.en\tBLEURT-20\t0.73264\n",
            "mbr.wmt22.en-ru.aggregate_to_fine.top20.n1024.epsilon0.02.seed0.chrf-to-comet22.ru\tBLEURT-20\t0.71191\n",
            "mbr.wmt22.en-ru.coarse_to_fine.top20.n1024.epsilon0.02.seed0.chrf-to-comet22.ru\tBLEURT-20\t0.71172\n",
            "mbr.wmt22.ru-en.aggregate_to_fine.top20.n1024.epsilon0.02.seed0.chrf-to-comet22.en\tBLEURT-20\t0.76104\n",
            "mbr.wmt22.ru-en.coarse_to_fine.top20.n1024.epsilon0.02.seed0.chrf-to-comet22.en\tBLEURT-20\t0.76154\n"
          ]
        }
      ],
      "source": [
        "for lp in [\"en-de\", \"de-en\", \"en-ru\", \"ru-en\"]:\n",
        "  src = lp.split(\"-\")[0]\n",
        "  tgt = lp.split(\"-\")[1]\n",
        "  r_path = f\"wmt22.{lp}.ref.{tgt}\"\n",
        "  run_score(r_path, f\"mbr.wmt22.{lp}.aggregate_to_fine.top20.n1024.epsilon0.02.seed0.chrf-to-comet22.{tgt}\")\n",
        "  run_score(r_path, f\"mbr.wmt22.{lp}.coarse_to_fine.top20.n1024.epsilon0.02.seed0.chrf-to-comet22.{tgt}\")"
      ]
    }
  ],
  "metadata": {
    "accelerator": "GPU",
    "colab": {
      "provenance": []
    },
    "kernelspec": {
      "display_name": "Python 3",
      "name": "python3"
    },
    "language_info": {
      "name": "python"
    }
  },
  "nbformat": 4,
  "nbformat_minor": 0
}